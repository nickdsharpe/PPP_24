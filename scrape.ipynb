{
 "cells": [
  {
   "cell_type": "code",
   "execution_count": 1,
   "id": "c3733952-1908-43f1-894a-5d5018750197",
   "metadata": {},
   "outputs": [],
   "source": [
    "import requests\n",
    "from bs4 import BeautifulSoup\n",
    "from nba_api.stats.endpoints import leaguedashteamstats, leaguedashteamshotlocations, commonallplayers\n",
    "import pandas as pd\n",
    "import numpy as np\n",
    "pd.set_option('display.max_rows', 500)\n",
    "pd.set_option('display.max_columns', 500)\n",
    "pd.set_option('display.width', 1000)"
   ]
  },
  {
   "cell_type": "code",
   "execution_count": 25,
   "id": "4d575a1a-d2b9-47b6-9502-d9553711c51e",
   "metadata": {},
   "outputs": [],
   "source": [
    "# Create an instance of the CommonAllPlayers endpoint\n",
    "all_players_instance = commonallplayers.CommonAllPlayers()\n",
    "\n",
    "# Retrieve the data\n",
    "all_players = all_players_instance.get_data_frames()[0]  # Get the first DataFrame\n",
    "\n",
    "# Extract relevant data\n",
    "all_players = all_players[all_players['ROSTERSTATUS'] != 0]\n",
    "all_players = all_players[['DISPLAY_FIRST_LAST', 'TEAM_CITY', 'TEAM_NAME']]\n",
    "all_players['FIRST_NAME'] = all_players['DISPLAY_FIRST_LAST'].str.split().str[0]\n",
    "all_players['LAST_NAME'] = all_players['DISPLAY_FIRST_LAST'].str.split().str[1]\n",
    "all_players = all_players.drop(columns=['DISPLAY_FIRST_LAST'], axis =1)\n",
    "all_players.to_csv('players.csv', index=False)"
   ]
  },
  {
   "cell_type": "code",
   "execution_count": 6,
   "id": "dea3cb76",
   "metadata": {},
   "outputs": [],
   "source": [
    "# Create an instance of the LeagueDashTeamStats endpoint\n",
    "team_shot_locations_connect = leaguedashteamshotlocations.LeagueDashTeamShotLocations()\n",
    "\n",
    "# Retrieve the data\n",
    "team_shot_locations_data = team_shot_locations_connect.get_data_frames()[0]  # Get the first DataFrame\n",
    "\n",
    "team_shot_locations = pd.DataFrame(team_shot_locations_data)\n",
    "team_shot_locations = team_shot_locations\n",
    "\n",
    "teams = team_shot_locations['']['TEAM_NAME']\n",
    "\n",
    "rim_data = team_shot_locations[['Restricted Area']]\n",
    "rim_data = rim_data['Restricted Area'][['FGM', 'FGA', 'FG_PCT']]\n",
    "\n",
    "short_mid_data = team_shot_locations[['In The Paint (Non-RA)']]\n",
    "short_mid_data = short_mid_data['In The Paint (Non-RA)'][['FGM', 'FGA', 'FG_PCT']]\n",
    "\n",
    "long_mid_data = team_shot_locations[['Mid-Range']]\n",
    "long_mid_data = long_mid_data['Mid-Range'][['FGM', 'FGA', 'FG_PCT']]\n",
    "\n",
    "corner_3_data = team_shot_locations[['Corner 3']]\n",
    "corner_3_data = corner_3_data['Corner 3'][['FGM', 'FGA', 'FG_PCT']]\n",
    "\n",
    "above_the_break_data = team_shot_locations[['Above the Break 3']]\n",
    "above_the_break_data = above_the_break_data['Above the Break 3'][['FGM', 'FGA', 'FG_PCT']]\n",
    "\n",
    "rim = pd.concat([teams, rim_data], axis=1).set_index('TEAM_NAME')\n",
    "short_mid = pd.concat([teams, short_mid_data], axis=1).set_index('TEAM_NAME')\n",
    "long_mid = pd.concat([teams, long_mid_data], axis=1).set_index('TEAM_NAME')\n",
    "corner_3 = pd.concat([teams, corner_3_data], axis=1).set_index('TEAM_NAME')\n",
    "above_the_break = pd.concat([teams, above_the_break_data], axis=1).set_index('TEAM_NAME')\n",
    "\n",
    "rim_label = 'RIM_'\n",
    "short_mid_label = 'SM_'\n",
    "long_mid_label = 'LM_'\n",
    "corner_3_label = 'C3_'\n",
    "above_the_break_label = 'ATB_'\n",
    "\n",
    "    \n",
    "rim.rename(columns={'FGM':f'{rim_label}FGM', 'FGA':f'{rim_label}FGA', 'FG_PCT':f'{rim_label}FG_PCT'}, inplace = True)\n",
    "short_mid.rename(columns={'FGM':f'{short_mid_label}FGM', 'FGA':f'{short_mid_label}FGA', 'FG_PCT':f'{short_mid_label}FG_PCT'}, inplace = True)\n",
    "long_mid.rename(columns={'FGM':f'{long_mid_label}FGM', 'FGA':f'{long_mid_label}FGA', 'FG_PCT':f'{long_mid_label}FG_PCT'}, inplace = True)\n",
    "corner_3.rename(columns={'FGM':f'{corner_3_label}FGM', 'FGA':f'{corner_3_label}FGA', 'FG_PCT':f'{corner_3_label}FG_PCT'}, inplace = True)\n",
    "above_the_break.rename(columns={'FGM':f'{above_the_break_label}FGM', 'FGA':f'{above_the_break_label}FGA', 'FG_PCT':f'{above_the_break_label}FG_PCT'}, inplace = True)"
   ]
  },
  {
   "cell_type": "code",
   "execution_count": 7,
   "id": "6ab57c51-7c29-4881-b5ed-a4e66161bac8",
   "metadata": {},
   "outputs": [],
   "source": [
    "# Create an instance of the LeagueDashTeamStats endpoint\n",
    "team_stats = leaguedashteamstats.LeagueDashTeamStats()\n",
    "\n",
    "# Retrieve the data\n",
    "team_stats_data = team_stats.get_data_frames()[0]  # Get the first DataFrame\n",
    "\n",
    "# Grab the PPP necessary stats\n",
    "ovr_PPP_data = team_stats_data[['TEAM_NAME', 'FGM', 'FGA', 'FG3M', 'FG3A', 'FTM', 'FTA', 'TOV']]\n",
    "PPP_stats = ovr_PPP_data.copy()\n",
    "\n",
    "# Calculate points for each team\n",
    "PPP_stats['FG2_POINTS'] = (PPP_stats['FGM'] - PPP_stats['FG3M']) * 2\n",
    "PPP_stats['FG3_POINTS'] = PPP_stats['FG3M'] * 3\n",
    "PPP_stats['FT_POINTS'] = PPP_stats['FTM']\n",
    "\n",
    "# Calculate total points scored by each team\n",
    "PPP_stats['TOTAL_POINTS'] = PPP_stats['FG2_POINTS'] + PPP_stats['FG3_POINTS'] + PPP_stats['FT_POINTS']\n",
    "PPP_stats = PPP_stats.set_index('TEAM_NAME')\n",
    "\n",
    "League_Totals = PPP_stats.copy()\n",
    "League_Totals = League_Totals.drop(['FG2_POINTS', 'FG3_POINTS', 'FT_POINTS'], axis=1)\n",
    "\n",
    "# Calculate totals for all stats including points\n",
    "totals = PPP_stats.select_dtypes(np.number).sum().rename('League Totals')\n",
    "PPP_stats = pd.concat([PPP_stats, totals.to_frame().T])\n",
    "\n",
    "# Calculate Points per Possession (PPP) for each team\n",
    "total_poss = (PPP_stats['FGA'] + (0.44 * PPP_stats['FTA']) + PPP_stats['TOV'])\n",
    "PPP_stats['PPP'] = round((PPP_stats['TOTAL_POINTS'] / (PPP_stats['FGA'] + (0.44 * PPP_stats['FTA']) + PPP_stats['TOV'])),2)\n",
    "#PPP_stats[['PPP']].sort_values('PPP', ascending=False)"
   ]
  },
  {
   "cell_type": "code",
   "execution_count": 8,
   "id": "d46a5939-f5e3-423f-b623-9235ada9879c",
   "metadata": {},
   "outputs": [],
   "source": [
    "# Concat the Shot Zones to the league totals\n",
    "League_Totals = pd.concat([League_Totals, rim, short_mid, long_mid, corner_3, above_the_break], axis=1)\n",
    "\n",
    "# Calculate the league totals\n",
    "totals = League_Totals.select_dtypes(np.number).sum().rename('League Totals')\n",
    "League_Totals = pd.concat([League_Totals, totals.to_frame().T])\n",
    "\n",
    "# Caculate the true FG_PCT for each shot zone\n",
    "League_Totals['RIM_FG_PCT']['League Totals'] = League_Totals['RIM_FGM']['League Totals'] / League_Totals['RIM_FGA']['League Totals']\n",
    "League_Totals['SM_FG_PCT']['League Totals'] = League_Totals['SM_FGM']['League Totals'] / League_Totals['SM_FGA']['League Totals']\n",
    "League_Totals['LM_FG_PCT']['League Totals'] = League_Totals['LM_FGM']['League Totals'] / League_Totals['LM_FGA']['League Totals']\n",
    "League_Totals['C3_FG_PCT']['League Totals'] = League_Totals['C3_FGM']['League Totals'] / League_Totals['C3_FGA']['League Totals']\n",
    "League_Totals['ATB_FG_PCT']['League Totals'] = League_Totals['ATB_FGM']['League Totals'] / League_Totals['ATB_FGA']['League Totals']\n",
    "\n",
    "# Calculate the frequency\n",
    "League_Totals['RIM_FREQ'] = League_Totals['RIM_FGA'] / League_Totals['FGA']\n",
    "League_Totals['SM_FREQ'] = League_Totals['SM_FGA'] / League_Totals['FGA']\n",
    "League_Totals['LM_FREQ'] = League_Totals['LM_FGA'] / League_Totals['FGA']\n",
    "League_Totals['C3_FREQ'] = League_Totals['C3_FGA'] / League_Totals['FGA']\n",
    "League_Totals['ATB_FREQ'] = League_Totals['ATB_FGA'] / League_Totals['FGA']"
   ]
  },
  {
   "cell_type": "code",
   "execution_count": 10,
   "id": "04d4c378-a704-426d-b667-81d350e003a2",
   "metadata": {},
   "outputs": [],
   "source": [
    "League_Totals.to_csv('frequency.csv')"
   ]
  },
  {
   "cell_type": "code",
   "execution_count": null,
   "id": "80b03550-2090-4f0f-8cd9-548c5c2078ff",
   "metadata": {},
   "outputs": [],
   "source": [
    "League_Totals"
   ]
  },
  {
   "cell_type": "code",
   "execution_count": null,
   "id": "2aa52336-8a04-426c-a5cc-aa70b383645f",
   "metadata": {},
   "outputs": [],
   "source": []
  }
 ],
 "metadata": {
  "kernelspec": {
   "display_name": "Python 3 (ipykernel)",
   "language": "python",
   "name": "python3"
  },
  "language_info": {
   "codemirror_mode": {
    "name": "ipython",
    "version": 3
   },
   "file_extension": ".py",
   "mimetype": "text/x-python",
   "name": "python",
   "nbconvert_exporter": "python",
   "pygments_lexer": "ipython3",
   "version": "3.9.12"
  }
 },
 "nbformat": 4,
 "nbformat_minor": 5
}
