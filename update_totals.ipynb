{
 "cells": [
  {
   "cell_type": "code",
   "execution_count": 2,
   "id": "81d7f8fe-063a-450c-ad2e-fd243c0b1b18",
   "metadata": {},
   "outputs": [],
   "source": [
    "import pandas as pd\n",
    "import json\n",
    "import os"
   ]
  },
  {
   "cell_type": "code",
   "execution_count": 6,
   "id": "a5685e96-a029-4ae6-9e74-99ea063756d0",
   "metadata": {},
   "outputs": [],
   "source": [
    "total_folder = 'Nuggets/!season_totals'\n",
    "game_dir = 'data/12.06.23_Clippers'\n",
    "\n",
    "for subdir, dirs, files in os.walk(game_dir):\n",
    "    for file in files:\n",
    "        if subdir == r'data/12.06.23_Clippers\\Nuggets\\Defense':\n",
    "            overall_file = f'data/!season_totals/Nuggets/Defense/{file}'\n",
    "            game_file = os.path.join(subdir, file)\n",
    "            try:\n",
    "                # Open the new game's file\n",
    "                with open(game_file, 'r') as p:\n",
    "                    game_data = json.load(p)\n",
    "                \n",
    "                # open the overall file *if it exists*\n",
    "                with open(overall_file, 'r') as f:\n",
    "                    overall_data = json.load(f)\n",
    "                   \n",
    "                new_game_data = game_data.copy()\n",
    "                updated_overall_data = overall_data.copy()\n",
    "                \n",
    "                # Format the data into pandas dataframes\n",
    "                for key in overall_data.keys():\n",
    "                    updated_overall_data[key]['data'] = pd.DataFrame(overall_data[key]['data']).transpose()\n",
    "                \n",
    "                for key in game_data.keys():\n",
    "                    new_game_data[key]['data'] = pd.DataFrame(game_data[key]['data']).transpose()\n",
    "                \n",
    "                # Loop over each shot zone in the new game file and add it to the overall\n",
    "                for key in new_game_data.keys():\n",
    "                    if key in updated_overall_data.keys():\n",
    "                        updated_overall_data[key]['data'] += new_game_data[key]['data']\n",
    "                        updated_overall_data[key]['shooting_locations'].extend(shot for shot in new_game_data[key]['shooting_locations'])\n",
    "                        #updated_overall_data[key]['created_locations'].extend(shot for shot in new_game_data[key]['created_locations'])\n",
    "                    else:\n",
    "                        updated_overall_data[key] = {'data': new_game_data[key]['data'], 'shooting_locations': new_game_data[key]['shooting_locations']}\n",
    "                                                     #'created_locations': new_game_data[key]['created_locations']}\n",
    "                \n",
    "                # Format back into a JSON\n",
    "                for key in updated_overall_data.keys():\n",
    "                    updated_overall_data[key]['data'] = updated_overall_data[key]['data'].to_dict(orient='index')\n",
    "                \n",
    "                # Write the new file \n",
    "                with open(f'{file}', 'w', encoding='utf-8') as n:\n",
    "                    json.dump(updated_overall_data, n, ensure_ascii=False, indent=4)\n",
    "                    \n",
    "            except:\n",
    "                print(file, 'No Overall Data')\n",
    "\n"
   ]
  },
  {
   "cell_type": "code",
   "execution_count": null,
   "id": "33f77f18-5337-4c77-b6f8-b934f80e8fe5",
   "metadata": {},
   "outputs": [],
   "source": []
  }
 ],
 "metadata": {
  "kernelspec": {
   "display_name": "Python 3 (ipykernel)",
   "language": "python",
   "name": "python3"
  },
  "language_info": {
   "codemirror_mode": {
    "name": "ipython",
    "version": 3
   },
   "file_extension": ".py",
   "mimetype": "text/x-python",
   "name": "python",
   "nbconvert_exporter": "python",
   "pygments_lexer": "ipython3",
   "version": "3.9.13"
  }
 },
 "nbformat": 4,
 "nbformat_minor": 5
}
